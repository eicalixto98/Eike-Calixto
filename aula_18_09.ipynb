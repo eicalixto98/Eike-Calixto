{
  "nbformat": 4,
  "nbformat_minor": 0,
  "metadata": {
    "colab": {
      "provenance": [],
      "authorship_tag": "ABX9TyMEOFQh2ZuETDvoUuEDZ4oX",
      "include_colab_link": true
    },
    "kernelspec": {
      "name": "python3",
      "display_name": "Python 3"
    },
    "language_info": {
      "name": "python"
    }
  },
  "cells": [
    {
      "cell_type": "markdown",
      "metadata": {
        "id": "view-in-github",
        "colab_type": "text"
      },
      "source": [
        "<a href=\"https://colab.research.google.com/github/eicalixto98/Eike-Calixto/blob/main/aula_18_09.ipynb\" target=\"_parent\"><img src=\"https://colab.research.google.com/assets/colab-badge.svg\" alt=\"Open In Colab\"/></a>"
      ]
    },
    {
      "cell_type": "code",
      "execution_count": null,
      "metadata": {
        "id": "dWGrJdyUMWZj"
      },
      "outputs": [],
      "source": []
    },
    {
      "cell_type": "markdown",
      "source": [
        "**EXERCICIO EXTRA.**"
      ],
      "metadata": {
        "id": "bjJScPCmQNtG"
      }
    },
    {
      "cell_type": "code",
      "source": [
        "#digite um valor inteiro\n",
        "inteiro = int(input(\"digite um valor inteiro: \"))\n",
        "\n",
        "#informe se é multiplo de 3 ou não\n",
        "if inteiro % 3 == 0:\n",
        "  print(\"o numero é multiplo de 3\")\n",
        "else:\n",
        "  print(\"o numero não é multiplo de 3\")\n",
        ""
      ],
      "metadata": {
        "colab": {
          "base_uri": "https://localhost:8080/"
        },
        "id": "jF36dQkyQUUO",
        "outputId": "a67aa9bd-63c5-480a-a62a-f200228d7097"
      },
      "execution_count": 5,
      "outputs": [
        {
          "output_type": "stream",
          "name": "stdout",
          "text": [
            "digite um valor inteiro: 6\n",
            "o numero é multiplo de 3\n"
          ]
        }
      ]
    },
    {
      "cell_type": "code",
      "source": [
        "#Leia os três valores: a, b e c.\n",
        "a = float(input(\"digite o valor de a: \"))\n",
        "b = float(input(\"digite o valor de b: \"))\n",
        "c = float(input(\"digite o valor de c: \"))\n",
        "\n",
        "#Compare os valores:\n",
        "if a <= b and a <= c:\n",
        "   menor = a\n",
        "elif b <= a and b <= c:\n",
        "   menor = b\n",
        "else:\n",
        "   menor = c\n",
        "\n",
        "#Exiba o menor valor.\n",
        "print(\"o menor valor é:\", menor)"
      ],
      "metadata": {
        "colab": {
          "base_uri": "https://localhost:8080/"
        },
        "id": "8LWiEYaRcXkK",
        "outputId": "389ff048-d036-4714-d0f0-8a499e00c1b8"
      },
      "execution_count": 9,
      "outputs": [
        {
          "output_type": "stream",
          "name": "stdout",
          "text": [
            "digite o valor de a: 2\n",
            "digite o valor de b: 5\n",
            "digite o valor de c: 10\n",
            "o menor valor é: 2.0\n"
          ]
        }
      ]
    }
  ]
}