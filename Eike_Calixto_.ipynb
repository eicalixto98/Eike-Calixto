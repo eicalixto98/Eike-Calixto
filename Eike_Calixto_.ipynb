{
  "nbformat": 4,
  "nbformat_minor": 0,
  "metadata": {
    "colab": {
      "provenance": [],
      "authorship_tag": "ABX9TyOCqiAeiAclk5iYDGL8i3b0",
      "include_colab_link": true
    },
    "kernelspec": {
      "name": "python3",
      "display_name": "Python 3"
    },
    "language_info": {
      "name": "python"
    }
  },
  "cells": [
    {
      "cell_type": "markdown",
      "metadata": {
        "id": "view-in-github",
        "colab_type": "text"
      },
      "source": [
        "<a href=\"https://colab.research.google.com/github/eicalixto98/Eike-Calixto/blob/main/Eike_Calixto_.ipynb\" target=\"_parent\"><img src=\"https://colab.research.google.com/assets/colab-badge.svg\" alt=\"Open In Colab\"/></a>"
      ]
    },
    {
      "cell_type": "markdown",
      "source": [],
      "metadata": {
        "id": "DXI2DsVIW5Jb"
      }
    },
    {
      "cell_type": "markdown",
      "source": [
        "EXPLICAÇÃO DO PROFESSOR"
      ],
      "metadata": {
        "id": "F_KjZ93oW6OL"
      }
    },
    {
      "cell_type": "markdown",
      "source": [],
      "metadata": {
        "id": "Bf1yEKLkWmQQ"
      }
    },
    {
      "cell_type": "code",
      "source": [
        "#comentarios\n",
        "num = int(input (\"digite valor: \"))\n",
        "print(num)\n",
        "print(type(num))"
      ],
      "metadata": {
        "colab": {
          "base_uri": "https://localhost:8080/"
        },
        "id": "sddbTKnWXBBa",
        "outputId": "c29b0a26-f791-4b7c-ca2f-301e4a03603a"
      },
      "execution_count": 3,
      "outputs": [
        {
          "output_type": "stream",
          "name": "stdout",
          "text": [
            "digite valor: 3\n",
            "3\n",
            "<class 'int'>\n"
          ]
        }
      ]
    }
  ]
}